{
 "cells": [
  {
   "cell_type": "code",
   "execution_count": 1,
   "metadata": {},
   "outputs": [],
   "source": [
    "import pandas as pd\n",
    "import numpy as np\n",
    "import matplotlib.pyplot as plt\n",
    "import datetime"
   ]
  },
  {
   "cell_type": "code",
   "execution_count": 2,
   "metadata": {},
   "outputs": [],
   "source": [
    "symbol = \"BTC-USD\"\n",
    "start=\"2017-06-01\"\n",
    "end=\"\""
   ]
  },
  {
   "cell_type": "code",
   "execution_count": 3,
   "metadata": {},
   "outputs": [],
   "source": [
    "# \"GGAL.BA\" start=\"2014-01-01\"\n",
    "# \"BTC-USD\" start=\"2017-06-01\""
   ]
  },
  {
   "cell_type": "code",
   "execution_count": 4,
   "metadata": {},
   "outputs": [
    {
     "name": "stdout",
     "output_type": "stream",
     "text": [
      "[*********************100%***********************]  1 of 1 completed\n"
     ]
    }
   ],
   "source": [
    "import yfinance_api as yf\n",
    "df = yf.getHistory(symbol,start,end)"
   ]
  },
  {
   "cell_type": "code",
   "execution_count": 5,
   "metadata": {},
   "outputs": [
    {
     "data": {
      "text/html": [
       "<div>\n",
       "<style scoped>\n",
       "    .dataframe tbody tr th:only-of-type {\n",
       "        vertical-align: middle;\n",
       "    }\n",
       "\n",
       "    .dataframe tbody tr th {\n",
       "        vertical-align: top;\n",
       "    }\n",
       "\n",
       "    .dataframe thead th {\n",
       "        text-align: right;\n",
       "    }\n",
       "</style>\n",
       "<table border=\"1\" class=\"dataframe\">\n",
       "  <thead>\n",
       "    <tr style=\"text-align: right;\">\n",
       "      <th></th>\n",
       "      <th>Open</th>\n",
       "      <th>High</th>\n",
       "      <th>Low</th>\n",
       "      <th>Close</th>\n",
       "      <th>Adj Close</th>\n",
       "      <th>Volume</th>\n",
       "    </tr>\n",
       "    <tr>\n",
       "      <th>Date</th>\n",
       "      <th></th>\n",
       "      <th></th>\n",
       "      <th></th>\n",
       "      <th></th>\n",
       "      <th></th>\n",
       "      <th></th>\n",
       "    </tr>\n",
       "  </thead>\n",
       "  <tbody>\n",
       "    <tr>\n",
       "      <th>2017-06-01</th>\n",
       "      <td>2288.330078</td>\n",
       "      <td>2448.389893</td>\n",
       "      <td>2288.330078</td>\n",
       "      <td>2407.879883</td>\n",
       "      <td>2407.879883</td>\n",
       "      <td>1653180032</td>\n",
       "    </tr>\n",
       "    <tr>\n",
       "      <th>2017-06-02</th>\n",
       "      <td>2404.030029</td>\n",
       "      <td>2488.550049</td>\n",
       "      <td>2373.320068</td>\n",
       "      <td>2488.550049</td>\n",
       "      <td>2488.550049</td>\n",
       "      <td>1317030016</td>\n",
       "    </tr>\n",
       "    <tr>\n",
       "      <th>2017-06-03</th>\n",
       "      <td>2493.719971</td>\n",
       "      <td>2581.909912</td>\n",
       "      <td>2423.570068</td>\n",
       "      <td>2515.350098</td>\n",
       "      <td>2515.350098</td>\n",
       "      <td>1514950016</td>\n",
       "    </tr>\n",
       "    <tr>\n",
       "      <th>2017-06-04</th>\n",
       "      <td>2547.790039</td>\n",
       "      <td>2585.889893</td>\n",
       "      <td>2452.540039</td>\n",
       "      <td>2511.810059</td>\n",
       "      <td>2511.810059</td>\n",
       "      <td>1355120000</td>\n",
       "    </tr>\n",
       "    <tr>\n",
       "      <th>2017-06-05</th>\n",
       "      <td>2512.399902</td>\n",
       "      <td>2686.810059</td>\n",
       "      <td>2510.219971</td>\n",
       "      <td>2686.810059</td>\n",
       "      <td>2686.810059</td>\n",
       "      <td>1369309952</td>\n",
       "    </tr>\n",
       "  </tbody>\n",
       "</table>\n",
       "</div>"
      ],
      "text/plain": [
       "                   Open         High          Low        Close    Adj Close  \\\n",
       "Date                                                                          \n",
       "2017-06-01  2288.330078  2448.389893  2288.330078  2407.879883  2407.879883   \n",
       "2017-06-02  2404.030029  2488.550049  2373.320068  2488.550049  2488.550049   \n",
       "2017-06-03  2493.719971  2581.909912  2423.570068  2515.350098  2515.350098   \n",
       "2017-06-04  2547.790039  2585.889893  2452.540039  2511.810059  2511.810059   \n",
       "2017-06-05  2512.399902  2686.810059  2510.219971  2686.810059  2686.810059   \n",
       "\n",
       "                Volume  \n",
       "Date                    \n",
       "2017-06-01  1653180032  \n",
       "2017-06-02  1317030016  \n",
       "2017-06-03  1514950016  \n",
       "2017-06-04  1355120000  \n",
       "2017-06-05  1369309952  "
      ]
     },
     "execution_count": 5,
     "metadata": {},
     "output_type": "execute_result"
    }
   ],
   "source": [
    "df.head()"
   ]
  },
  {
   "cell_type": "code",
   "execution_count": 6,
   "metadata": {},
   "outputs": [
    {
     "data": {
      "text/plain": [
       "1691"
      ]
     },
     "execution_count": 6,
     "metadata": {},
     "output_type": "execute_result"
    }
   ],
   "source": [
    "data = df.filter(['Close'])\n",
    "\n",
    "\n",
    "dataset = data.values\n",
    "\n",
    "training_data_len = int(np.ceil( len(dataset) * .95 ))\n",
    "\n",
    "training_data_len"
   ]
  },
  {
   "cell_type": "code",
   "execution_count": 7,
   "metadata": {},
   "outputs": [
    {
     "data": {
      "text/plain": [
       "array([[0.00728339],\n",
       "       [0.00851242],\n",
       "       [0.00892073],\n",
       "       ...,\n",
       "       [0.58194858],\n",
       "       [0.5977864 ],\n",
       "       [0.57663788]])"
      ]
     },
     "execution_count": 7,
     "metadata": {},
     "output_type": "execute_result"
    }
   ],
   "source": [
    "from sklearn.preprocessing import MinMaxScaler\n",
    "\n",
    "scaler = MinMaxScaler(feature_range=(0,1))\n",
    "scaled_data = scaler.fit_transform(dataset)\n",
    "\n",
    "scaled_data"
   ]
  },
  {
   "cell_type": "code",
   "execution_count": 8,
   "metadata": {},
   "outputs": [
    {
     "name": "stdout",
     "output_type": "stream",
     "text": [
      "[array([0.00728339, 0.00851242, 0.00892073, 0.0088668 , 0.01153298,\n",
      "       0.01422033, 0.0122239 , 0.01334308, 0.01362021, 0.01550787,\n",
      "       0.01566632, 0.01111888, 0.01199324, 0.00878392, 0.00814724,\n",
      "       0.00896964, 0.01106175, 0.00942258, 0.01005195, 0.01206591,\n",
      "       0.01156787, 0.01181635, 0.01241815, 0.01034325, 0.01004906,\n",
      "       0.00835855, 0.00948596, 0.00982632, 0.00928592, 0.00839496,\n",
      "       0.00768972, 0.00878544, 0.00966284, 0.01023538, 0.01024072,\n",
      "       0.01034081, 0.00897116, 0.00977376, 0.00896781, 0.00674528,\n",
      "       0.00621555, 0.00714567, 0.00652193, 0.00462422, 0.00105185,\n",
      "       0.        , 0.00454911, 0.00592745, 0.005235  , 0.0135256 ,\n",
      "       0.01124274, 0.01341164, 0.01219708, 0.01256974, 0.00985206,\n",
      "       0.00913555, 0.01130399, 0.01339473, 0.0121369 , 0.01260508])]\n",
      "[0.014405290061777033]\n",
      "\n",
      "[array([0.00728339, 0.00851242, 0.00892073, 0.0088668 , 0.01153298,\n",
      "       0.01422033, 0.0122239 , 0.01334308, 0.01362021, 0.01550787,\n",
      "       0.01566632, 0.01111888, 0.01199324, 0.00878392, 0.00814724,\n",
      "       0.00896964, 0.01106175, 0.00942258, 0.01005195, 0.01206591,\n",
      "       0.01156787, 0.01181635, 0.01241815, 0.01034325, 0.01004906,\n",
      "       0.00835855, 0.00948596, 0.00982632, 0.00928592, 0.00839496,\n",
      "       0.00768972, 0.00878544, 0.00966284, 0.01023538, 0.01024072,\n",
      "       0.01034081, 0.00897116, 0.00977376, 0.00896781, 0.00674528,\n",
      "       0.00621555, 0.00714567, 0.00652193, 0.00462422, 0.00105185,\n",
      "       0.        , 0.00454911, 0.00592745, 0.005235  , 0.0135256 ,\n",
      "       0.01124274, 0.01341164, 0.01219708, 0.01256974, 0.00985206,\n",
      "       0.00913555, 0.01130399, 0.01339473, 0.0121369 , 0.01260508]), array([0.00851242, 0.00892073, 0.0088668 , 0.01153298, 0.01422033,\n",
      "       0.0122239 , 0.01334308, 0.01362021, 0.01550787, 0.01566632,\n",
      "       0.01111888, 0.01199324, 0.00878392, 0.00814724, 0.00896964,\n",
      "       0.01106175, 0.00942258, 0.01005195, 0.01206591, 0.01156787,\n",
      "       0.01181635, 0.01241815, 0.01034325, 0.01004906, 0.00835855,\n",
      "       0.00948596, 0.00982632, 0.00928592, 0.00839496, 0.00768972,\n",
      "       0.00878544, 0.00966284, 0.01023538, 0.01024072, 0.01034081,\n",
      "       0.00897116, 0.00977376, 0.00896781, 0.00674528, 0.00621555,\n",
      "       0.00714567, 0.00652193, 0.00462422, 0.00105185, 0.        ,\n",
      "       0.00454911, 0.00592745, 0.005235  , 0.0135256 , 0.01124274,\n",
      "       0.01341164, 0.01219708, 0.01256974, 0.00985206, 0.00913555,\n",
      "       0.01130399, 0.01339473, 0.0121369 , 0.01260508, 0.01440529])]\n",
      "[0.014405290061777033, 0.012012126776556668]\n",
      "\n"
     ]
    }
   ],
   "source": [
    "train_data = scaled_data[0:int(training_data_len), :]\n",
    "x_train=[]\n",
    "y_train=[]\n",
    "\n",
    "for i in range(60, len(train_data)):\n",
    "    x_train.append(train_data[i-60:i,0])\n",
    "    y_train.append(train_data[i,0])\n",
    "    if i<=61:\n",
    "        print(x_train)\n",
    "        print(y_train)\n",
    "        print()\n",
    "\n",
    "x_train,y_train=np.array(x_train),np.array(y_train)\n",
    "\n",
    "x_train=np.reshape(x_train, (x_train.shape[0],x_train.shape[1],1))\n",
    "\n",
    " \n"
   ]
  },
  {
   "cell_type": "code",
   "execution_count": 9,
   "metadata": {},
   "outputs": [],
   "source": [
    "from keras.models import Sequential,load_model\n",
    "from keras.layers import Dense,LSTM\n",
    "from os.path import exists\n",
    "\n",
    "model=\"\"\n",
    "if exists(symbol+\".hdf5\"):\n",
    "    model=load_model(symbol+\".hdf5\")\n",
    "else:\n",
    "    model=Sequential()\n",
    "    model.add(LSTM(128,return_sequences=True,input_shape=(x_train.shape[1],1)))\n",
    "    model.add(LSTM(64,return_sequences=False))\n",
    "    model.add(Dense(25))\n",
    "    model.add(Dense(1))\n",
    "\n",
    "    model.compile(optimizer='adam',loss=\"mean_squared_error\")\n",
    "    model.fit(x_train,y_train,batch_size=32,epochs=100)\n",
    "    model.save(symbol+\".hdf5\")"
   ]
  },
  {
   "cell_type": "code",
   "execution_count": 10,
   "metadata": {},
   "outputs": [],
   "source": [
    "test_data = scaled_data[training_data_len - 60: , :]\n",
    "\n",
    "x_test=[]\n",
    "y_test=dataset[training_data_len:,:]\n",
    "for i in range(60,len(test_data)):\n",
    "    x_test.append(test_data[i-60:i,0])\n",
    "\n",
    "x_test = np.array(x_test)\n",
    "\n",
    "x_test=np.reshape(x_test,(x_test.shape[0],x_test.shape[1],1))\n",
    "Predicciones=model.predict(x_test)\n",
    "Predicciones=scaler.inverse_transform(Predicciones)"
   ]
  },
  {
   "cell_type": "code",
   "execution_count": 11,
   "metadata": {},
   "outputs": [
    {
     "data": {
      "text/plain": [
       "1573.61442366052"
      ]
     },
     "execution_count": 11,
     "metadata": {},
     "output_type": "execute_result"
    }
   ],
   "source": [
    "rmse=np.sqrt(np.mean(((Predicciones-y_test)**2)))\n",
    "rmse"
   ]
  },
  {
   "cell_type": "code",
   "execution_count": 12,
   "metadata": {},
   "outputs": [
    {
     "data": {
      "text/plain": [
       "2.817205374280933"
      ]
     },
     "execution_count": 12,
     "metadata": {},
     "output_type": "execute_result"
    }
   ],
   "source": [
    "mape=np.mean(np.abs((y_test-Predicciones)/y_test))*100\n",
    "mape"
   ]
  },
  {
   "cell_type": "code",
   "execution_count": 13,
   "metadata": {},
   "outputs": [
    {
     "data": {
      "image/png": "[encoded data removed]",
      "text/plain": [
       "<Figure size 1440x576 with 1 Axes>"
      ]
     },
     "metadata": {
      "needs_background": "light"
     },
     "output_type": "display_data"
    }
   ],
   "source": [
    "pd.options.mode.chained_assignment = None\n",
    "train=data[:training_data_len]\n",
    "valid=data[training_data_len:]\n",
    "valid['Prediccion']=Predicciones\n",
    "#Visualize:\n",
    "plt.figure(figsize=(20,8))\n",
    "plt.title('Stock Price Forecast LSTM Model: '+symbol)\n",
    "plt.xlabel('Fecha',fontsize=13)\n",
    "plt.ylabel('Precio Cierre pesos $',fontsize=13)\n",
    "plt.plot(train['Close'])\n",
    "plt.plot(valid[['Close','Prediccion']])\n",
    "plt.legend(['Entrenamiento','Real','Prediccion'], loc='upper left')\n",
    "plt.show()"
   ]
  }
 ],
 "metadata": {
  "interpreter": {
   "hash": "43bd57a51c2303283c87553fdeefd12a721f1c4038d3f55e8e0cf88595fbefca"
  },
  "kernelspec": {
   "display_name": "Python 3.10.4 64-bit",
   "language": "python",
   "name": "python3"
  },
  "language_info": {
   "codemirror_mode": {
    "name": "ipython",
    "version": 3
   },
   "file_extension": ".py",
   "mimetype": "text/x-python",
   "name": "python",
   "nbconvert_exporter": "python",
   "pygments_lexer": "ipython3",
   "version": "3.10.4"
  },
  "orig_nbformat": 4
 },
 "nbformat": 4,
 "nbformat_minor": 2
}
