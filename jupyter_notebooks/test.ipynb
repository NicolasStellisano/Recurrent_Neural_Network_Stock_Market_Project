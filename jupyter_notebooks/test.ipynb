{
 "cells": [
  {
   "cell_type": "code",
   "execution_count": 1,
   "metadata": {},
   "outputs": [
    {
     "ename": "TypeError",
     "evalue": "'dict' object is not callable",
     "output_type": "error",
     "traceback": [
      "\u001b[1;31m---------------------------------------------------------------------------\u001b[0m",
      "\u001b[1;31mTypeError\u001b[0m                                 Traceback (most recent call last)",
      "\u001b[1;32mc:\\Users\\Nico\\Desktop\\api_bolsa\\test.ipynb Cell 1'\u001b[0m in \u001b[0;36m<cell line: 2>\u001b[1;34m()\u001b[0m\n\u001b[0;32m      <a href='vscode-notebook-cell:/c%3A/Users/Nico/Desktop/api_bolsa/test.ipynb#ch0000000?line=0'>1</a>\u001b[0m \u001b[39mimport\u001b[39;00m \u001b[39myfinance_api\u001b[39;00m \u001b[39mas\u001b[39;00m \u001b[39myf\u001b[39;00m\n\u001b[1;32m----> <a href='vscode-notebook-cell:/c%3A/Users/Nico/Desktop/api_bolsa/test.ipynb#ch0000000?line=1'>2</a>\u001b[0m yf\u001b[39m.\u001b[39;49mgetInfo(\u001b[39m\"\u001b[39;49m\u001b[39mGGAL.BA\u001b[39;49m\u001b[39m\"\u001b[39;49m)\n",
      "File \u001b[1;32mc:\\Users\\Nico\\Desktop\\api_bolsa\\yfinance_api.py:27\u001b[0m, in \u001b[0;36mgetInfo\u001b[1;34m(symbol)\u001b[0m\n\u001b[0;32m     <a href='file:///c%3A/Users/Nico/Desktop/api_bolsa/yfinance_api.py?line=25'>26</a>\u001b[0m \u001b[39mdef\u001b[39;00m \u001b[39mgetInfo\u001b[39m(symbol:\u001b[39mstr\u001b[39m):\n\u001b[1;32m---> <a href='file:///c%3A/Users/Nico/Desktop/api_bolsa/yfinance_api.py?line=26'>27</a>\u001b[0m         \u001b[39mreturn\u001b[39;00m yf\u001b[39m.\u001b[39;49mTicker(symbol)\u001b[39m.\u001b[39;49minfo()[\u001b[39m\"\u001b[39m\u001b[39mlongName\u001b[39m\u001b[39m\"\u001b[39m]\n",
      "\u001b[1;31mTypeError\u001b[0m: 'dict' object is not callable"
     ]
    }
   ],
   "source": [
    "import yfinance_api as yf\n",
    "yf.getInfo(\"GGAL.BA\")"
   ]
  }
 ],
 "metadata": {
  "interpreter": {
   "hash": "43bd57a51c2303283c87553fdeefd12a721f1c4038d3f55e8e0cf88595fbefca"
  },
  "kernelspec": {
   "display_name": "Python 3.10.4 64-bit",
   "language": "python",
   "name": "python3"
  },
  "language_info": {
   "name": "python",
   "version": "3.10.4"
  },
  "orig_nbformat": 4
 },
 "nbformat": 4,
 "nbformat_minor": 2
}
